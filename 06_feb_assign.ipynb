{
 "cells": [
  {
   "cell_type": "code",
   "execution_count": 6,
   "id": "770a37c4-0423-43c3-89e1-a8d650b39f70",
   "metadata": {},
   "outputs": [
    {
     "name": "stdout",
     "output_type": "stream",
     "text": [
      "4134711838987085478833841242112000\n"
     ]
    }
   ],
   "source": [
    "\"\"\"Q1. Create a function which will take a list as an argument and return the product of all the numbers\n",
    "after creating a flat list.\n",
    "Use the below-given list as an argument for your function.\n",
    "list1 = [1,2,3,4, [44,55,66, True], False, (34,56,78,89,34), {1,2,3,3,2,1}, {1:34, \"key2\": [55, 67, 78, 89], 4: (45,\n",
    "22, 61, 34)}, [56, 'data science'], 'Machine Learning']\n",
    "Note: you must extract numeric keys and values of the dictionary also.\"\"\"\n",
    "\n",
    "# Ans:\n",
    "\n",
    "list1 = [1,2,3,4, [44,55,66, True], False, (34,56,78,89,34), {1,2,3,3,2,1}, \n",
    "         {1:34, \"key2\": [55, 67, 78, 89], 4: (45,22, 61, 34)}, [56, 'data science'], 'Machine Learning']\n",
    "l2 = []\n",
    "for i in list1:\n",
    "    if type(i) == int:\n",
    "        l2.append(i)\n",
    "    if type(i) == list:\n",
    "        for j in i:\n",
    "            if type(j) == int:\n",
    "                l2.append(j)\n",
    "    if type(i) == tuple:\n",
    "        for j in i:\n",
    "            if type(j) == int:\n",
    "                l2.append(j)\n",
    "    if type(i) == set:\n",
    "        for j in i:\n",
    "            if type(j) == int:\n",
    "                l2.append(j)\n",
    "    if type(i) == dict:\n",
    "        for key, value in i.items():\n",
    "            if type(key) == int :\n",
    "                l2.append(key)\n",
    "            if type(value) == int:\n",
    "                l2.append(value)\n",
    "            if type(value) == list or type(value) == tuple:\n",
    "                for j in value:\n",
    "                    l2.append(j)\n",
    "product = 1        \n",
    "for k in l2:\n",
    "    product *= k\n",
    "print(product)"
   ]
  },
  {
   "cell_type": "code",
   "execution_count": 17,
   "id": "47977623-fcdb-4dd4-979b-81c78f8dd186",
   "metadata": {},
   "outputs": [
    {
     "name": "stdin",
     "output_type": "stream",
     "text": [
      "Enter a sentence:  I want to become a Data Scientist.\n"
     ]
    },
    {
     "data": {
      "text/plain": [
       "'r$dzmg$gl$yvxlnv$z$wzgz$hxrvmgrhg.'"
      ]
     },
     "execution_count": 17,
     "metadata": {},
     "output_type": "execute_result"
    }
   ],
   "source": [
    "\"\"\"Q2. Write a python program for encrypting a message sent to you by your friend. The logic of encryption\n",
    "should be such that, for a the output should be z. For b, the output should be y. For c, the output should\n",
    "be x respectively. Also, the whitespace should be replaced with a dollar sign. Keep the punctuation\n",
    "marks unchanged.\n",
    "Input Sentence: I want to become a Data Scientist.\n",
    "Encrypt the above input sentence using the program you just created.\n",
    "Note: Convert the given input sentence into lowercase before encrypting. The final output should be\n",
    "lowercase.\"\"\"\n",
    "\n",
    "\n",
    "alphabets = ['a', 'b', 'c', 'd', 'e', 'f', 'g', 'h', 'i', 'j', 'k', 'l', 'm', 'n', 'o', 'p', 'q', 'r', 's', 't', 'u', 'v', 'w', 'x', 'y', 'z']\n",
    "encrypted = \"\"\n",
    "sentence = input(\"Enter a sentence: \").lower()\n",
    "for i in sentence:\n",
    "        if i in alphabets:\n",
    "            encrypted = encrypted + alphabets[len(alphabets) - alphabets.index(i) - 1]\n",
    "        elif i == \" \":\n",
    "            encrypted += '$'\n",
    "        else:\n",
    "            encrypted += i\n",
    "encrypted\n",
    "# len(alphabets)"
   ]
  },
  {
   "cell_type": "code",
   "execution_count": null,
   "id": "1f594424-9482-4861-82d7-0fa269091165",
   "metadata": {},
   "outputs": [],
   "source": []
  }
 ],
 "metadata": {
  "kernelspec": {
   "display_name": "Python 3 (ipykernel)",
   "language": "python",
   "name": "python3"
  },
  "language_info": {
   "codemirror_mode": {
    "name": "ipython",
    "version": 3
   },
   "file_extension": ".py",
   "mimetype": "text/x-python",
   "name": "python",
   "nbconvert_exporter": "python",
   "pygments_lexer": "ipython3",
   "version": "3.10.8"
  }
 },
 "nbformat": 4,
 "nbformat_minor": 5
}
